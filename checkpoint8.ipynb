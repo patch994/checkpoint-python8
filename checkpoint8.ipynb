{
 "cells": [
  {
   "cell_type": "code",
   "execution_count": 20,
   "id": "e4b77253",
   "metadata": {},
   "outputs": [
    {
     "name": "stdout",
     "output_type": "stream",
     "text": [
      "mean loan amount: 342.0\n",
      "median loan: 360.0\n",
      "standard deviation of loan amount: 65.0661202162846\n"
     ]
    }
   ],
   "source": [
    "import numpy as np\n",
    "file=open('Loan_prediction_dataset.csv','r')\n",
    "\n",
    "data=np.genfromtxt(file,delimiter=',',skip_header=1)\n",
    "\n",
    "file.close()\n",
    "\n",
    "loan_amounts=data[:,9]\n",
    "\n",
    "loan_amounts= loan_amounts[~np.isnan(loan_amounts)]\n",
    "\n",
    "mean_loan=np.mean(loan_amounts)\n",
    "median_loan=np.median(loan_amounts)\n",
    "std_loan=np.std(loan_amounts)\n",
    "\n",
    "print(\"mean loan amount:\",mean_loan)\n",
    "print(\"median loan:\",median_loan)\n",
    "print(\"standard deviation of loan amount:\",std_loan)\n"
   ]
  }
 ],
 "metadata": {
  "kernelspec": {
   "display_name": "Python 3",
   "language": "python",
   "name": "python3"
  },
  "language_info": {
   "codemirror_mode": {
    "name": "ipython",
    "version": 3
   },
   "file_extension": ".py",
   "mimetype": "text/x-python",
   "name": "python",
   "nbconvert_exporter": "python",
   "pygments_lexer": "ipython3",
   "version": "3.13.2"
  }
 },
 "nbformat": 4,
 "nbformat_minor": 5
}
